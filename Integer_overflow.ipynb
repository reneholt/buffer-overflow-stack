{
  "nbformat": 4,
  "nbformat_minor": 0,
  "metadata": {
    "colab": {
      "name": "Integer_overflow.ipynb",
      "provenance": [],
      "authorship_tag": "ABX9TyMS/buDVMQ7fEO/9RjEfJzs",
      "include_colab_link": true
    },
    "kernelspec": {
      "name": "python3",
      "display_name": "Python 3"
    },
    "language_info": {
      "name": "python"
    }
  },
  "cells": [
    {
      "cell_type": "markdown",
      "metadata": {
        "id": "view-in-github",
        "colab_type": "text"
      },
      "source": [
        "<a href=\"https://colab.research.google.com/github/reneholt/secure-coding/blob/main/Integer_overflow.ipynb\" target=\"_parent\"><img src=\"https://colab.research.google.com/assets/colab-badge.svg\" alt=\"Open In Colab\"/></a>"
      ]
    },
    {
      "cell_type": "code",
      "execution_count": 3,
      "metadata": {
        "colab": {
          "base_uri": "https://localhost:8080/"
        },
        "id": "jTRs1KaRn0-4",
        "outputId": "0654d0cf-d4ee-48ad-95f6-3774998661b2"
      },
      "outputs": [
        {
          "output_type": "stream",
          "name": "stdout",
          "text": [
            "Overwriting IntegerOverflow.c\n"
          ]
        }
      ],
      "source": [
        "%%writefile IntegerOverflow.c\n",
        "\n",
        "#include <string.h>\n",
        "#include <stdio.h>\n",
        "#include <stdlib.h>\n",
        "\n",
        "int MAX_BUFFER_LENGTH = 11;     // [1]\n",
        "\n",
        "char* initializeBuffer () {\n",
        "    char* buffer = (char*) malloc(MAX_BUFFER_LENGTH * sizeof(char));\n",
        "\n",
        "    if (buffer == NULL) {\n",
        "        printf(\"Could not allocate memory on the heap\\n\");\n",
        "    }\n",
        "\n",
        "    return buffer;\n",
        "}\n",
        "\n",
        "int main(void) {\n",
        "    signed int buffer_length;\n",
        "    char* source_buffer = \"0123456789\";               // Arbitrary test data\n",
        "    char* destination_buffer = NULL;\n",
        "\n",
        "    buffer_length = -1;                              // Hypothetical attacker-controlled variable\n",
        "    printf(\"buffer_length as a signed int is %d and implicitly cast to an unsigned int is %u\\n\",\n",
        "           buffer_length, buffer_length);\n",
        "  \n",
        "    if (buffer_length > MAX_BUFFER_LENGTH) {         // [2] Faulty size check  \n",
        "        printf(\"Integer overflow detected\\n\");\n",
        "    }\n",
        "    else {\n",
        "        destination_buffer = initializeBuffer();\n",
        "\t\n",
        "\t      strncpy(destination_buffer, source_buffer, buffer_length);    // [3] Potential buffer overflow due to integer overflow        \n",
        "\t      destination_buffer[buffer_length] = '\\0';\n",
        "\n",
        "        printf(\"Destination buffer contents: %s\\n\", destination_buffer);\n",
        "    }\n",
        "\n",
        "    return 0;\n",
        "}\n"
      ]
    },
    {
      "cell_type": "code",
      "source": [
        "%%shell\n",
        "gcc IntegerOverflow.c -o IntegerOverflow\n",
        "./IntegerOverflow"
      ],
      "metadata": {
        "colab": {
          "base_uri": "https://localhost:8080/",
          "height": 352
        },
        "id": "vW-7C0JboYXz",
        "outputId": "c95acbbf-664e-47de-8d25-6033f20cef8a"
      },
      "execution_count": 4,
      "outputs": [
        {
          "output_type": "stream",
          "name": "stdout",
          "text": [
            "buffer_length as a signed int is -1 and implicitly cast to an unsigned int is 4294967295\n"
          ]
        },
        {
          "output_type": "error",
          "ename": "CalledProcessError",
          "evalue": "ignored",
          "traceback": [
            "\u001b[0;31m---------------------------------------------------------------------------\u001b[0m",
            "\u001b[0;31mCalledProcessError\u001b[0m                        Traceback (most recent call last)",
            "\u001b[0;32m<ipython-input-4-d0b081e35195>\u001b[0m in \u001b[0;36m<module>\u001b[0;34m()\u001b[0m\n\u001b[0;32m----> 1\u001b[0;31m \u001b[0mget_ipython\u001b[0m\u001b[0;34m(\u001b[0m\u001b[0;34m)\u001b[0m\u001b[0;34m.\u001b[0m\u001b[0mrun_cell_magic\u001b[0m\u001b[0;34m(\u001b[0m\u001b[0;34m'shell'\u001b[0m\u001b[0;34m,\u001b[0m \u001b[0;34m''\u001b[0m\u001b[0;34m,\u001b[0m \u001b[0;34m'gcc IntegerOverflow.c -o IntegerOverflow\\n./IntegerOverflow'\u001b[0m\u001b[0;34m)\u001b[0m\u001b[0;34m\u001b[0m\u001b[0;34m\u001b[0m\u001b[0m\n\u001b[0m",
            "\u001b[0;32m/usr/local/lib/python3.7/dist-packages/IPython/core/interactiveshell.py\u001b[0m in \u001b[0;36mrun_cell_magic\u001b[0;34m(self, magic_name, line, cell)\u001b[0m\n\u001b[1;32m   2115\u001b[0m             \u001b[0mmagic_arg_s\u001b[0m \u001b[0;34m=\u001b[0m \u001b[0mself\u001b[0m\u001b[0;34m.\u001b[0m\u001b[0mvar_expand\u001b[0m\u001b[0;34m(\u001b[0m\u001b[0mline\u001b[0m\u001b[0;34m,\u001b[0m \u001b[0mstack_depth\u001b[0m\u001b[0;34m)\u001b[0m\u001b[0;34m\u001b[0m\u001b[0;34m\u001b[0m\u001b[0m\n\u001b[1;32m   2116\u001b[0m             \u001b[0;32mwith\u001b[0m \u001b[0mself\u001b[0m\u001b[0;34m.\u001b[0m\u001b[0mbuiltin_trap\u001b[0m\u001b[0;34m:\u001b[0m\u001b[0;34m\u001b[0m\u001b[0;34m\u001b[0m\u001b[0m\n\u001b[0;32m-> 2117\u001b[0;31m                 \u001b[0mresult\u001b[0m \u001b[0;34m=\u001b[0m \u001b[0mfn\u001b[0m\u001b[0;34m(\u001b[0m\u001b[0mmagic_arg_s\u001b[0m\u001b[0;34m,\u001b[0m \u001b[0mcell\u001b[0m\u001b[0;34m)\u001b[0m\u001b[0;34m\u001b[0m\u001b[0;34m\u001b[0m\u001b[0m\n\u001b[0m\u001b[1;32m   2118\u001b[0m             \u001b[0;32mreturn\u001b[0m \u001b[0mresult\u001b[0m\u001b[0;34m\u001b[0m\u001b[0;34m\u001b[0m\u001b[0m\n\u001b[1;32m   2119\u001b[0m \u001b[0;34m\u001b[0m\u001b[0m\n",
            "\u001b[0;32m/usr/local/lib/python3.7/dist-packages/google/colab/_system_commands.py\u001b[0m in \u001b[0;36m_shell_cell_magic\u001b[0;34m(args, cmd)\u001b[0m\n\u001b[1;32m    111\u001b[0m   \u001b[0mresult\u001b[0m \u001b[0;34m=\u001b[0m \u001b[0m_run_command\u001b[0m\u001b[0;34m(\u001b[0m\u001b[0mcmd\u001b[0m\u001b[0;34m,\u001b[0m \u001b[0mclear_streamed_output\u001b[0m\u001b[0;34m=\u001b[0m\u001b[0;32mFalse\u001b[0m\u001b[0;34m)\u001b[0m\u001b[0;34m\u001b[0m\u001b[0;34m\u001b[0m\u001b[0m\n\u001b[1;32m    112\u001b[0m   \u001b[0;32mif\u001b[0m \u001b[0;32mnot\u001b[0m \u001b[0mparsed_args\u001b[0m\u001b[0;34m.\u001b[0m\u001b[0mignore_errors\u001b[0m\u001b[0;34m:\u001b[0m\u001b[0;34m\u001b[0m\u001b[0;34m\u001b[0m\u001b[0m\n\u001b[0;32m--> 113\u001b[0;31m     \u001b[0mresult\u001b[0m\u001b[0;34m.\u001b[0m\u001b[0mcheck_returncode\u001b[0m\u001b[0;34m(\u001b[0m\u001b[0;34m)\u001b[0m\u001b[0;34m\u001b[0m\u001b[0;34m\u001b[0m\u001b[0m\n\u001b[0m\u001b[1;32m    114\u001b[0m   \u001b[0;32mreturn\u001b[0m \u001b[0mresult\u001b[0m\u001b[0;34m\u001b[0m\u001b[0;34m\u001b[0m\u001b[0m\n\u001b[1;32m    115\u001b[0m \u001b[0;34m\u001b[0m\u001b[0m\n",
            "\u001b[0;32m/usr/local/lib/python3.7/dist-packages/google/colab/_system_commands.py\u001b[0m in \u001b[0;36mcheck_returncode\u001b[0;34m(self)\u001b[0m\n\u001b[1;32m    137\u001b[0m     \u001b[0;32mif\u001b[0m \u001b[0mself\u001b[0m\u001b[0;34m.\u001b[0m\u001b[0mreturncode\u001b[0m\u001b[0;34m:\u001b[0m\u001b[0;34m\u001b[0m\u001b[0;34m\u001b[0m\u001b[0m\n\u001b[1;32m    138\u001b[0m       raise subprocess.CalledProcessError(\n\u001b[0;32m--> 139\u001b[0;31m           returncode=self.returncode, cmd=self.args, output=self.output)\n\u001b[0m\u001b[1;32m    140\u001b[0m \u001b[0;34m\u001b[0m\u001b[0m\n\u001b[1;32m    141\u001b[0m   \u001b[0;32mdef\u001b[0m \u001b[0m_repr_pretty_\u001b[0m\u001b[0;34m(\u001b[0m\u001b[0mself\u001b[0m\u001b[0;34m,\u001b[0m \u001b[0mp\u001b[0m\u001b[0;34m,\u001b[0m \u001b[0mcycle\u001b[0m\u001b[0;34m)\u001b[0m\u001b[0;34m:\u001b[0m  \u001b[0;31m# pylint:disable=unused-argument\u001b[0m\u001b[0;34m\u001b[0m\u001b[0;34m\u001b[0m\u001b[0m\n",
            "\u001b[0;31mCalledProcessError\u001b[0m: Command 'gcc IntegerOverflow.c -o IntegerOverflow\n./IntegerOverflow' died with <Signals.SIGSEGV: 11>."
          ]
        }
      ]
    },
    {
      "cell_type": "markdown",
      "source": [
        "Now let's fix the size check so we can detect the integer overflow.\n",
        "\n",
        "if (buffer_length < 0 || buffer_length > MAX_BUFFER_LENGTH) {         // [2] Corrected size check "
      ],
      "metadata": {
        "id": "K2iGxuUprXH4"
      }
    },
    {
      "cell_type": "code",
      "source": [
        "%%writefile IntegerOverflow.c\n",
        "\n",
        "#include <string.h>\n",
        "#include <stdio.h>\n",
        "#include <stdlib.h>\n",
        "\n",
        "int MAX_BUFFER_LENGTH = 11;     // [1]\n",
        "\n",
        "char* initializeBuffer () {\n",
        "    char* buffer = (char*) malloc(MAX_BUFFER_LENGTH * sizeof(char));\n",
        "\n",
        "    if (buffer == NULL) {\n",
        "        printf(\"Could not allocate memory on the heap\\n\");\n",
        "    }\n",
        "\n",
        "    return buffer;\n",
        "}\n",
        "\n",
        "int main(void) {\n",
        "    signed int buffer_length;\n",
        "    char* source_buffer = \"0123456789\";                                    // Arbitrary test data\n",
        "    char* destination_buffer = NULL;\n",
        "\n",
        "    buffer_length = -1;                                                   // Hypothetical attacker-controlled variable\n",
        "    printf(\"buffer_length as a signed int is %d and implicitly cast to an unsigned int is %u\\n\",\n",
        "           buffer_length, buffer_length);\n",
        "  \n",
        "    if (buffer_length < 0 || buffer_length > MAX_BUFFER_LENGTH) {         // [2] Corrected size check  \n",
        "        printf(\"Integer overflow detected\\n\");\n",
        "    }\n",
        "    else {\n",
        "        destination_buffer = initializeBuffer(); \n",
        "\t\n",
        "      \tstrncpy(destination_buffer, source_buffer, buffer_length);        \n",
        "      \tdestination_buffer[buffer_length] = '\\0';\n",
        "\n",
        "        printf(\"Destination buffer contents: %s\\n\", destination_buffer);\n",
        "    }\n",
        "\n",
        "    return 0;\n",
        "}\n"
      ],
      "metadata": {
        "id": "GQdI-l5Ordm1",
        "outputId": "495563f4-1e4c-4dcb-f1a9-5ae17a22865a",
        "colab": {
          "base_uri": "https://localhost:8080/"
        }
      },
      "execution_count": 5,
      "outputs": [
        {
          "output_type": "stream",
          "name": "stdout",
          "text": [
            "Overwriting IntegerOverflow.c\n"
          ]
        }
      ]
    },
    {
      "cell_type": "code",
      "source": [
        "%%shell\n",
        "gcc IntegerOverflow.c -o IntegerOverflow\n",
        "./IntegerOverflow"
      ],
      "metadata": {
        "id": "vpNZhYRurz1E",
        "outputId": "a00792bc-0f0c-4f4b-ae4c-94478b975d7b",
        "colab": {
          "base_uri": "https://localhost:8080/"
        }
      },
      "execution_count": 6,
      "outputs": [
        {
          "output_type": "stream",
          "name": "stdout",
          "text": [
            "buffer_length as a signed int is -1 and implicitly cast to an unsigned int is 4294967295\n",
            "Integer overflow detected\n"
          ]
        },
        {
          "output_type": "execute_result",
          "data": {
            "text/plain": [
              ""
            ]
          },
          "metadata": {},
          "execution_count": 6
        }
      ]
    }
  ]
}