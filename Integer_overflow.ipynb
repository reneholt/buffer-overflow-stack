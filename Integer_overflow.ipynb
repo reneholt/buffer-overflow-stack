{
  "nbformat": 4,
  "nbformat_minor": 0,
  "metadata": {
    "colab": {
      "name": "Integer_overflow.ipynb",
      "provenance": [],
      "authorship_tag": "ABX9TyPYo8zf1tFlQVYWnxBpqHXR",
      "include_colab_link": true
    },
    "kernelspec": {
      "name": "python3",
      "display_name": "Python 3"
    },
    "language_info": {
      "name": "python"
    }
  },
  "cells": [
    {
      "cell_type": "markdown",
      "metadata": {
        "id": "view-in-github",
        "colab_type": "text"
      },
      "source": [
        "<a href=\"https://colab.research.google.com/github/reneholt/secure-coding/blob/main/Integer_overflow.ipynb\" target=\"_parent\"><img src=\"https://colab.research.google.com/assets/colab-badge.svg\" alt=\"Open In Colab\"/></a>"
      ]
    },
    {
      "cell_type": "code",
      "execution_count": 12,
      "metadata": {
        "colab": {
          "base_uri": "https://localhost:8080/"
        },
        "id": "jTRs1KaRn0-4",
        "outputId": "b1c16088-1d6d-4b28-a112-ecff298e571d"
      },
      "outputs": [
        {
          "output_type": "stream",
          "name": "stdout",
          "text": [
            "Overwriting IntegerOverflow.c\n"
          ]
        }
      ],
      "source": [
        "%%writefile IntegerOverflow.c\n",
        "\n",
        "#include <string.h>\n",
        "#include <stdio.h>\n",
        "#include <stdlib.h>\n",
        "\n",
        "int MAX_BUFFER_LENGTH = 11;     // [1]\n",
        "\n",
        "char* initializeBuffer () {\n",
        "    char* buffer = (char*) malloc(MAX_BUFFER_LENGTH * sizeof(char));\n",
        "\n",
        "    if (buffer == NULL) {\n",
        "        printf(\"Could not allocate memory on the heap\\n\");\n",
        "    }\n",
        "\n",
        "    return buffer;\n",
        "}\n",
        "\n",
        "int main(void) {\n",
        "    signed int buffer_length;\n",
        "    char* source_buffer = \"0123456789\";               // Arbitrary test data\n",
        "    char* destination_buffer = NULL;\n",
        "\n",
        "    buffer_length = 1;                              // Hypothetical attacker-controlled variable\n",
        "  \n",
        "    if (buffer_length > MAX_BUFFER_LENGTH) {         // [2] Faulty size check  \n",
        "        printf(\"Integer overflow detected\\n\");\n",
        "    }\n",
        "    else {\n",
        "        destination_buffer = initializeBuffer();\n",
        "\n",
        "        printf(\"buffer_length as a signed int is %d and implicitly cast to an unsigned int is %u\\n\", buffer_length, buffer_length);\n",
        "        \n",
        "\t\n",
        "\tstrncpy(destination_buffer, source_buffer, buffer_length);    // [3] Potential buffer overflow due to integer overflow\n",
        "\n",
        "        \n",
        "\tdestination_buffer[buffer_length] = '\\0';\n",
        "\n",
        "        printf(\"Destination buffer contents: %s\\n\", destination_buffer);\n",
        "    }\n",
        "\n",
        "    return 0;\n",
        "}\n"
      ]
    },
    {
      "cell_type": "code",
      "source": [
        "%%shell\n",
        "gcc IntegerOverflow.c -o IntegerOverflow\n",
        "./IntegerOverflow"
      ],
      "metadata": {
        "colab": {
          "base_uri": "https://localhost:8080/"
        },
        "id": "vW-7C0JboYXz",
        "outputId": "8ef0e4ea-eaf0-4d49-889f-16cfd3474147"
      },
      "execution_count": 13,
      "outputs": [
        {
          "output_type": "stream",
          "name": "stdout",
          "text": [
            "buffer_length as a signed int is 1 and implicitly cast to an unsigned int is 1\n",
            "Destination buffer contents: 0\n"
          ]
        },
        {
          "output_type": "execute_result",
          "data": {
            "text/plain": [
              ""
            ]
          },
          "metadata": {},
          "execution_count": 13
        }
      ]
    }
  ]
}